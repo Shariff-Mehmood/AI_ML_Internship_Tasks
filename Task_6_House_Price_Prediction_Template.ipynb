{
 "cells": [
  {
   "cell_type": "code",
   "execution_count": null,
   "id": "8f934f44-b06d-4cb2-adeb-46dcea18a09a",
   "metadata": {},
   "outputs": [],
   "source": [
    "# Task 6: Predict house prices using basic home features\n",
    "\n",
    "import pandas as pd\n",
    "import matplotlib.pyplot as plt\n",
    "from sklearn.model_selection import train_test_split\n",
    "from sklearn.linear_model import LinearRegression\n",
    "from sklearn.metrics import mean_absolute_error, mean_squared_error\n",
    "import numpy as np\n",
    "\n",
    "# Step 1: Load your dataset (download from Kaggle first!)\n",
    "df = pd.read_csv(\"house_prices.csv\")  # Make sure this file exists in your folder\n",
    "\n",
    "# Step 2: Pick features to use for prediction\n",
    "features = ['GrLivArea', 'BedroomAbvGr', 'FullBath', 'YearBuilt']\n",
    "target = 'SalePrice'\n",
    "\n",
    "# Step 3: Remove rows with missing values\n",
    "df = df[features + [target]].dropna()\n",
    "\n",
    "# Step 4: Split the data\n",
    "X = df[features]\n",
    "y = df[target]\n",
    "X_train, X_test, y_train, y_test = train_test_split(X, y, test_size=0.2, random_state=42)\n",
    "\n",
    "# Step 5: Train the model\n",
    "model = LinearRegression()\n",
    "model.fit(X_train, y_train)\n",
    "\n",
    "# Step 6: Predict and evaluate the model\n",
    "y_pred = model.predict(X_test)\n",
    "\n",
    "# How far off are the predictions?\n",
    "print(\"Mean Absolute Error (MAE):\", mean_absolute_error(y_test, y_pred))\n",
    "print(\"Root Mean Squared Error (RMSE):\", np.sqrt(mean_squared_error(y_test, y_pred)))\n",
    "\n",
    "# Step 7: Visualize predictions vs real prices\n",
    "plt.scatter(y_test, y_pred, alpha=0.6)\n",
    "plt.xlabel(\"Actual House Prices\")\n",
    "plt.ylabel(\"Predicted House Prices\")\n",
    "plt.title(\"Actual vs Predicted House Prices\")\n",
    "plt.grid(True)\n",
    "plt.show()\n"
   ]
  }
 ],
 "metadata": {
  "kernelspec": {
   "display_name": "Python 3 (ipykernel)",
   "language": "python",
   "name": "python3"
  },
  "language_info": {
   "codemirror_mode": {
    "name": "ipython",
    "version": 3
   },
   "file_extension": ".py",
   "mimetype": "text/x-python",
   "name": "python",
   "nbconvert_exporter": "python",
   "pygments_lexer": "ipython3",
   "version": "3.13.3"
  }
 },
 "nbformat": 4,
 "nbformat_minor": 5
}
