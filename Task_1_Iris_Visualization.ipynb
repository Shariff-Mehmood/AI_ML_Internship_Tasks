{
 "cells": [
  {
   "cell_type": "code",
   "execution_count": null,
   "id": "e7de7e69-f59d-43d7-ae95-2bb147bf1f44",
   "metadata": {},
   "outputs": [],
   "source": [
    "# Task 1: Explore and visualize the Iris flower dataset\n",
    "\n",
    "# Load the tools we need\n",
    "import pandas as pd\n",
    "import seaborn as sns\n",
    "import matplotlib.pyplot as plt\n",
    "\n",
    "# Step 1: Load the dataset from seaborn\n",
    "iris = sns.load_dataset('iris')\n",
    "\n",
    "# Step 2: Understand the data\n",
    "print(\"Number of rows and columns:\", iris.shape)\n",
    "print(\"Column names:\", iris.columns.tolist())\n",
    "print(\"Preview of data:\\n\", iris.head())\n",
    "\n",
    "# Show data types and missing values\n",
    "print(\"\\nData Info:\")\n",
    "print(iris.info())\n",
    "\n",
    "# Show basic statistics like mean, min, max, etc.\n",
    "print(\"\\nSummary Stats:\")\n",
    "print(iris.describe())\n",
    "\n",
    "# Step 3: Visualize the data\n",
    "\n",
    "# Scatter plots between all feature combinations, color by species\n",
    "sns.pairplot(iris, hue='species')\n",
    "plt.suptitle(\"Relationship Between Iris Features\", y=1.02)\n",
    "plt.show()\n",
    "\n",
    "# Histogram: Distribution of each feature\n",
    "iris.hist(edgecolor='black', figsize=(10, 6))\n",
    "plt.suptitle(\"Value Distribution of Each Feature\", y=1.02)\n",
    "plt.tight_layout()\n",
    "plt.show()\n",
    "\n",
    "# Box plot: See outliers and data spread\n",
    "plt.figure(figsize=(10, 6))\n",
    "sns.boxplot(data=iris)\n",
    "plt.title(\"Boxplot of All Features (Iris Dataset)\")\n",
    "plt.grid(True)\n",
    "plt.show()"
   ]
  }
 ],
 "metadata": {
  "kernelspec": {
   "display_name": "Python 3 (ipykernel)",
   "language": "python",
   "name": "python3"
  },
  "language_info": {
   "codemirror_mode": {
    "name": "ipython",
    "version": 3
   },
   "file_extension": ".py",
   "mimetype": "text/x-python",
   "name": "python",
   "nbconvert_exporter": "python",
   "pygments_lexer": "ipython3",
   "version": "3.13.3"
  }
 },
 "nbformat": 4,
 "nbformat_minor": 5
}
